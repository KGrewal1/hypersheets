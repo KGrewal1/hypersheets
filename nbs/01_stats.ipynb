{
 "cells": [
  {
   "cell_type": "markdown",
   "metadata": {},
   "source": [
    "# Base stats\n",
    "\n",
    "> Statistical functions for portfolio analysis"
   ]
  },
  {
   "cell_type": "code",
   "execution_count": null,
   "metadata": {},
   "outputs": [],
   "source": [
    "#| default_exp stats"
   ]
  },
  {
   "cell_type": "code",
   "execution_count": null,
   "metadata": {},
   "outputs": [],
   "source": [
    "#| hide\n",
    "from nbdev.showdoc import *\n",
    "from warnings import warn\n",
    "import pandas as pd\n",
    "import numpy as np\n",
    "from math import ceil, sqrt\n",
    "from scipy.stats import (\n",
    "    norm as _norm, linregress as _linregress\n",
    ")\n",
    "\n",
    "#from . import utils as _utils"
   ]
  },
  {
   "cell_type": "code",
   "execution_count": null,
   "metadata": {},
   "outputs": [],
   "source": [
    "# mock returns array\n",
    "data = np.array([0.03, 0.01, 0.05, -0.01, -0.03])\n",
    "returns = pd.Series(data)"
   ]
  },
  {
   "cell_type": "code",
   "execution_count": null,
   "metadata": {},
   "outputs": [],
   "source": [
    "#| export\n",
    "def compsum(returns):\n",
    "    \"\"\"Calculates cumulative compounded returns up to each day, for series of daily returns\"\"\"\n",
    "    return returns.add(1).cumprod() -1"
   ]
  },
  {
   "cell_type": "code",
   "execution_count": null,
   "metadata": {},
   "outputs": [
    {
     "data": {
      "text/plain": [
       "0    0.030000\n",
       "1    0.040300\n",
       "2    0.092315\n",
       "3    0.081392\n",
       "4    0.048950\n",
       "dtype: float64"
      ]
     },
     "execution_count": null,
     "metadata": {},
     "output_type": "execute_result"
    }
   ],
   "source": [
    "compsum(returns)"
   ]
  },
  {
   "cell_type": "code",
   "execution_count": null,
   "metadata": {},
   "outputs": [],
   "source": [
    "#| export\n",
    "def comp(returns):\n",
    "    \"\"\"Calculates total compounded return, for series of daily returns\"\"\"\n",
    "    return returns.add(1).prod() -1"
   ]
  },
  {
   "cell_type": "code",
   "execution_count": null,
   "metadata": {},
   "outputs": [
    {
     "data": {
      "text/plain": [
       "0.048950094500000096"
      ]
     },
     "execution_count": null,
     "metadata": {},
     "output_type": "execute_result"
    }
   ],
   "source": [
    "comp(returns)"
   ]
  },
  {
   "cell_type": "code",
   "execution_count": null,
   "metadata": {},
   "outputs": [],
   "source": [
    "#| hide\n",
    "# distribution function: need to decide specifics: should this be using standard deviation\n",
    "# def distribution(returns, compounded=True, prepare_returns=True):\n",
    "#     def get_outliers(data):\n",
    "#         # https://datascience.stackexchange.com/a/57199\n",
    "#         Q1 = data.quantile(0.25)\n",
    "#         Q3 = data.quantile(0.75)\n",
    "#         IQR = Q3 - Q1  # IQR is interquartile range.\n",
    "#         filtered = (data >= Q1 - 1.5 * IQR) & (data <= Q3 + 1.5 * IQR)\n",
    "#         return {\n",
    "#             \"values\": data.loc[filtered].tolist(),\n",
    "#             \"outliers\": data.loc[~filtered].tolist(),\n",
    "#         }\n",
    "\n",
    "#     if isinstance(returns, _pd.DataFrame):\n",
    "#         warn(\"Pandas DataFrame was passed (Series expeted). \"\n",
    "#              \"Only first column will be used.\")\n",
    "#         returns = returns.copy()\n",
    "#         returns.columns = map(str.lower, returns.columns)\n",
    "#         if len(returns.columns) > 1 and 'close' in returns.columns:\n",
    "#             returns = returns['close']\n",
    "#         else:\n",
    "#             returns = returns[returns.columns[0]]\n",
    "\n",
    "#     apply_fnc = comp if compounded else _np.sum\n",
    "#     daily = returns.dropna()\n",
    "\n",
    "#     if prepare_returns:\n",
    "#         daily = _utils._prepare_returns(daily)\n",
    "\n",
    "#     return {\n",
    "#         \"Daily\": get_outliers(daily),\n",
    "#         \"Weekly\": get_outliers(daily.resample('W-MON').apply(apply_fnc)),\n",
    "#         \"Monthly\": get_outliers(daily.resample('M').apply(apply_fnc)),\n",
    "#         \"Quarterly\": get_outliers(daily.resample('Q').apply(apply_fnc)),\n",
    "#         \"Yearly\": get_outliers(daily.resample('A').apply(apply_fnc))\n",
    "#     }"
   ]
  },
  {
   "cell_type": "code",
   "execution_count": null,
   "metadata": {},
   "outputs": [],
   "source": [
    "#| export\n",
    "def expected_return(returns, aggregate=None, compounded=True,\n",
    "                    prepare_returns=True):\n",
    "    \"\"\"\n",
    "    Returns the expected geometric return for a given period\n",
    "    by calculating the geometric holding period return\n",
    "    \"\"\"\n",
    "    # if prepare_returns:\n",
    "    #     returns = utils.prepare_returns(returns)\n",
    "    # returns = utils.aggregate_returns(returns, aggregate, compounded)\n",
    "    return np.product(1 + returns) ** (1 / len(returns)) - 1"
   ]
  },
  {
   "cell_type": "markdown",
   "metadata": {},
   "source": [
    "The expected geometric return is:\n",
    "$$ \\left(\\prod\\limits_{i=1}^{n}(p_{i})\\right)^{(1/n)} -1$$\n",
    "\n",
    "where $p_{i}$ is 1+ the daily return: $p_{i}=\\frac{v_{i}}{v_{i-1}}=1+r_{i}$, where $v_{i}$ and $r_{i}$ are value and return of the asset on day $i$ respectively"
   ]
  },
  {
   "cell_type": "code",
   "execution_count": null,
   "metadata": {},
   "outputs": [
    {
     "data": {
      "text/plain": [
       "0.009603773872040255"
      ]
     },
     "execution_count": null,
     "metadata": {},
     "output_type": "execute_result"
    }
   ],
   "source": [
    "expected_return(returns, aggregate=None, compounded=True,\n",
    "                    prepare_returns=True)"
   ]
  },
  {
   "cell_type": "code",
   "execution_count": null,
   "metadata": {},
   "outputs": [],
   "source": [
    "#| export\n",
    "def geometric_mean(retruns, aggregate=None, compounded=True):\n",
    "    \"\"\"Shorthand for expected_return()\"\"\"\n",
    "    return expected_return(retruns, aggregate, compounded)\n",
    "\n",
    "\n",
    "def ghpr(retruns, aggregate=None, compounded=True):\n",
    "    \"\"\"Shorthand for expected_return()\"\"\"\n",
    "    return expected_return(retruns, aggregate, compounded)"
   ]
  },
  {
   "cell_type": "code",
   "execution_count": null,
   "metadata": {},
   "outputs": [],
   "source": [
    "#| export\n",
    "def foo(): pass"
   ]
  },
  {
   "cell_type": "code",
   "execution_count": null,
   "metadata": {},
   "outputs": [],
   "source": [
    "#| hide\n",
    "import nbdev; nbdev.nbdev_export()"
   ]
  }
 ],
 "metadata": {
  "kernelspec": {
   "display_name": "Python 3.9.12 ('packageDev1')",
   "language": "python",
   "name": "python3"
  }
 },
 "nbformat": 4,
 "nbformat_minor": 4
}
