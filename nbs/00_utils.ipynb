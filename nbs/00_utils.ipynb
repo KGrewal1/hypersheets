{
 "cells": [
  {
   "cell_type": "markdown",
   "metadata": {},
   "source": [
    "# Utils\n",
    "\n",
    "> Utility functions for portfolio analysis"
   ]
  },
  {
   "cell_type": "code",
   "execution_count": null,
   "metadata": {},
   "outputs": [],
   "source": [
    "#| default_exp utils"
   ]
  },
  {
   "cell_type": "code",
   "execution_count": null,
   "metadata": {},
   "outputs": [],
   "source": [
    "#| hide\n",
    "import io as io\n",
    "import datetime as dt\n",
    "import pandas as pd\n",
    "import numpy as np\n",
    "import yfinance as yf\n",
    "import hypersheets.stats as stats\n",
    "import inspect"
   ]
  },
  {
   "cell_type": "code",
   "execution_count": null,
   "metadata": {},
   "outputs": [],
   "source": [
    "#| export\n",
    "def mtd(df):\n",
    "    \"\"\"Restrict a dataframe to only month to date\"\"\"\n",
    "    return df[df.index >= _dt.datetime.now(\n",
    "    ).strftime('%Y-%m-01')]"
   ]
  },
  {
   "cell_type": "code",
   "execution_count": null,
   "metadata": {},
   "outputs": [],
   "source": [
    "#| export\n",
    "def qtd(df):\n",
    "    \"\"\"Restrict a dataframe to only quarter to date (quarters starting in Jan, Apr, Jun, Oct) \"\"\"\n",
    "    return df[df.index >= _dt.datetime.now(\n",
    "    ).strftime('%Y-%m-01')]"
   ]
  },
  {
   "cell_type": "code",
   "execution_count": null,
   "metadata": {},
   "outputs": [],
   "source": [
    "#| export\n",
    "def ytd(df):\n",
    "    \"\"\"Restrict a dataframe to only year to date\"\"\"\n",
    "    return df[df.index >= _dt.datetime.now(\n",
    "    ).strftime('%Y-01-01')]"
   ]
  },
  {
   "cell_type": "code",
   "execution_count": null,
   "metadata": {},
   "outputs": [],
   "source": [
    "#| hide\n"
   ]
  },
  {
   "cell_type": "code",
   "execution_count": null,
   "metadata": {},
   "outputs": [],
   "source": [
    "#| export\n",
    "def pandas_date(df, dates):\n",
    "    \"\"\"Filters a dataframe (with date as the index), to its values on specific days\"\"\"\n",
    "    if not isinstance(dates, list):\n",
    "        dates = [dates]\n",
    "    return df[df.index.isin(dates)]"
   ]
  },
  {
   "cell_type": "code",
   "execution_count": null,
   "metadata": {},
   "outputs": [
    {
     "data": {
      "text/html": [
       "<div>\n",
       "<style scoped>\n",
       "    .dataframe tbody tr th:only-of-type {\n",
       "        vertical-align: middle;\n",
       "    }\n",
       "\n",
       "    .dataframe tbody tr th {\n",
       "        vertical-align: top;\n",
       "    }\n",
       "\n",
       "    .dataframe thead th {\n",
       "        text-align: right;\n",
       "    }\n",
       "</style>\n",
       "<table border=\"1\" class=\"dataframe\">\n",
       "  <thead>\n",
       "    <tr style=\"text-align: right;\">\n",
       "      <th></th>\n",
       "      <th>name</th>\n",
       "    </tr>\n",
       "    <tr>\n",
       "      <th>DoB</th>\n",
       "      <th></th>\n",
       "    </tr>\n",
       "  </thead>\n",
       "  <tbody>\n",
       "    <tr>\n",
       "      <th>2005-10-15</th>\n",
       "      <td>alice</td>\n",
       "    </tr>\n",
       "    <tr>\n",
       "      <th>2001-01-01</th>\n",
       "      <td>charlie</td>\n",
       "    </tr>\n",
       "  </tbody>\n",
       "</table>\n",
       "</div>"
      ],
      "text/plain": [
       "               name\n",
       "DoB                \n",
       "2005-10-15    alice\n",
       "2001-01-01  charlie"
      ]
     },
     "execution_count": null,
     "metadata": {},
     "output_type": "execute_result"
    }
   ],
   "source": [
    "df = pd.DataFrame({\n",
    "    'name': ['alice','bob','charlie','ryan'],\n",
    "    'DoB': ['2005-10-15','2002-09-03','2001-01-01','1999-12-31']\n",
    "})\n",
    "df = df.set_index('DoB')\n",
    "dates = ['2001-01-01','2005-10-15']\n",
    "pandas_date(df, dates)"
   ]
  },
  {
   "cell_type": "code",
   "execution_count": null,
   "metadata": {},
   "outputs": [],
   "source": [
    "#| export\n",
    "def pandas_current_month(df):\n",
    "    \"\"\"an alternative method to mtd. remove?\"\"\"\n",
    "    n = _dt.datetime.now()\n",
    "    daterange = _pd.date_range(_dt.date(n.year, n.month, 1), n)\n",
    "    return df[df.index.isin(daterange)]"
   ]
  },
  {
   "cell_type": "code",
   "execution_count": null,
   "metadata": {},
   "outputs": [],
   "source": [
    "#| export\n",
    "def multi_shift(df, shift=3):\n",
    "    \"\"\"Get last N rows relative to another row in dataframe of values, with a sorted index\"\"\"\n",
    "    if isinstance(df, pd.Series):\n",
    "        df = pd.DataFrame(df)\n",
    "\n",
    "    dfs = [df.shift(i) for i in np.arange(shift)]\n",
    "    for ix, dfi in enumerate(dfs[1:]):\n",
    "        dfs[ix + 1].columns = [str(col) for col in dfi.columns + str(ix + 1)]\n",
    "    return pd.concat(dfs, axis = 1, sort=True)"
   ]
  },
  {
   "cell_type": "code",
   "execution_count": null,
   "metadata": {},
   "outputs": [
    {
     "data": {
      "text/html": [
       "<div>\n",
       "<style scoped>\n",
       "    .dataframe tbody tr th:only-of-type {\n",
       "        vertical-align: middle;\n",
       "    }\n",
       "\n",
       "    .dataframe tbody tr th {\n",
       "        vertical-align: top;\n",
       "    }\n",
       "\n",
       "    .dataframe thead th {\n",
       "        text-align: right;\n",
       "    }\n",
       "</style>\n",
       "<table border=\"1\" class=\"dataframe\">\n",
       "  <thead>\n",
       "    <tr style=\"text-align: right;\">\n",
       "      <th></th>\n",
       "      <th>value</th>\n",
       "      <th>value1</th>\n",
       "      <th>value2</th>\n",
       "    </tr>\n",
       "    <tr>\n",
       "      <th>Date</th>\n",
       "      <th></th>\n",
       "      <th></th>\n",
       "      <th></th>\n",
       "    </tr>\n",
       "  </thead>\n",
       "  <tbody>\n",
       "    <tr>\n",
       "      <th>1999-10-15</th>\n",
       "      <td>10</td>\n",
       "      <td>NaN</td>\n",
       "      <td>NaN</td>\n",
       "    </tr>\n",
       "    <tr>\n",
       "      <th>1999-10-16</th>\n",
       "      <td>15</td>\n",
       "      <td>10.0</td>\n",
       "      <td>NaN</td>\n",
       "    </tr>\n",
       "    <tr>\n",
       "      <th>1999-10-17</th>\n",
       "      <td>13</td>\n",
       "      <td>15.0</td>\n",
       "      <td>10.0</td>\n",
       "    </tr>\n",
       "    <tr>\n",
       "      <th>1999-10-18</th>\n",
       "      <td>7</td>\n",
       "      <td>13.0</td>\n",
       "      <td>15.0</td>\n",
       "    </tr>\n",
       "    <tr>\n",
       "      <th>1999-10-19</th>\n",
       "      <td>12</td>\n",
       "      <td>7.0</td>\n",
       "      <td>13.0</td>\n",
       "    </tr>\n",
       "    <tr>\n",
       "      <th>1999-10-20</th>\n",
       "      <td>6</td>\n",
       "      <td>12.0</td>\n",
       "      <td>7.0</td>\n",
       "    </tr>\n",
       "  </tbody>\n",
       "</table>\n",
       "</div>"
      ],
      "text/plain": [
       "            value  value1  value2\n",
       "Date                             \n",
       "1999-10-15     10     NaN     NaN\n",
       "1999-10-16     15    10.0     NaN\n",
       "1999-10-17     13    15.0    10.0\n",
       "1999-10-18      7    13.0    15.0\n",
       "1999-10-19     12     7.0    13.0\n",
       "1999-10-20      6    12.0     7.0"
      ]
     },
     "execution_count": null,
     "metadata": {},
     "output_type": "execute_result"
    }
   ],
   "source": [
    "#| export\n",
    "df = pd.DataFrame({\n",
    "    'value': [10,15,13,7,12,6],\n",
    "    'Date': ['1999-10-15','1999-10-16','1999-10-17','1999-10-18','1999-10-19','1999-10-20']\n",
    "})\n",
    "df = df.set_index('Date')\n",
    "multi_shift(df,3)"
   ]
  },
  {
   "cell_type": "code",
   "execution_count": null,
   "metadata": {},
   "outputs": [],
   "source": [
    "#| export\n",
    "def to_returns(prices, rf=0.):\n",
    "    \"\"\"Calculates the simple arithmetic returns of a price series\"\"\"\n",
    "    return _prepare_returns(prices, rf)"
   ]
  },
  {
   "cell_type": "code",
   "execution_count": null,
   "metadata": {},
   "outputs": [],
   "source": [
    "#| export\n",
    "def to_prices(returns, base=1e5):\n",
    "    \"\"\"Converts returns series to price data\"\"\"\n",
    "    returns = returns.copy().fillna(0).replace(\n",
    "        [np.inf, -np.inf], float('NaN'))\n",
    "\n",
    "    return base + base * stats.compsum(returns)"
   ]
  },
  {
   "cell_type": "code",
   "execution_count": null,
   "metadata": {},
   "outputs": [],
   "source": [
    "# mock returns array\n",
    "data = np.array([0.1, -0.2, 0.25, 0.5, -0.8])\n",
    "returns = pd.Series(data)"
   ]
  },
  {
   "cell_type": "code",
   "execution_count": null,
   "metadata": {},
   "outputs": [
    {
     "data": {
      "text/plain": [
       "0    110.0\n",
       "1     88.0\n",
       "2    110.0\n",
       "3    165.0\n",
       "4     33.0\n",
       "dtype: float64"
      ]
     },
     "execution_count": null,
     "metadata": {},
     "output_type": "execute_result"
    }
   ],
   "source": [
    "to_prices(returns, base=100)"
   ]
  },
  {
   "cell_type": "code",
   "execution_count": null,
   "metadata": {},
   "outputs": [],
   "source": [
    "#| export\n",
    "def log_returns(returns, rf=0., nperiods=None):\n",
    "    \"\"\"Shorthand for to_log_returns\"\"\"\n",
    "    return to_log_returns(returns, rf, nperiods)"
   ]
  },
  {
   "cell_type": "code",
   "execution_count": null,
   "metadata": {},
   "outputs": [],
   "source": [
    "#| export\n",
    "def to_log_returns(returns, rf=0., nperiods=None):\n",
    "    \"\"\"Converts returns series to log returns\"\"\"\n",
    "    returns = prepare_returns(returns, rf, nperiods)\n",
    "    try:\n",
    "        return np.log(returns+1).replace([np.inf, -np.inf], float('NaN'))\n",
    "    except Exception:\n",
    "        return 0."
   ]
  },
  {
   "cell_type": "code",
   "execution_count": null,
   "metadata": {},
   "outputs": [],
   "source": [
    "#| export\n",
    "def exponential_stdev(returns, window=30, is_halflife=False):\n",
    "    \"\"\"Returns series representing exponential volatility of returns\"\"\"\n",
    "    returns = _prepare_returns(returns)\n",
    "    halflife = window if is_halflife else None\n",
    "    return returns.ewm(com=None, span=window,\n",
    "                       halflife=halflife, min_periods=window).std()"
   ]
  },
  {
   "cell_type": "code",
   "execution_count": null,
   "metadata": {},
   "outputs": [],
   "source": [
    "#| export\n",
    "def rebase(prices, base=100.):\n",
    "    \"\"\"\n",
    "    Rebase all series to a given intial base.\n",
    "    This makes comparing/plotting different series together easier.\n",
    "    Args:\n",
    "        * prices: Expects a price series/dataframe\n",
    "        * base (number): starting value for all series.\n",
    "    \"\"\"\n",
    "    return prices.dropna() / prices.dropna().iloc[0] * base"
   ]
  },
  {
   "cell_type": "code",
   "execution_count": null,
   "metadata": {},
   "outputs": [],
   "source": [
    "#| export\n",
    "def group_returns(returns, groupby, compounded=True):\n",
    "    \"\"\"Summarize returns\n",
    "    group_returns(df, df.index.year)\n",
    "    group_returns(df, [df.index.year, df.index.month])\n",
    "    \"\"\"\n",
    "    if compounded:\n",
    "        return returns.groupby(groupby).apply(_stats.comp)\n",
    "    return returns.groupby(groupby).sum()"
   ]
  },
  {
   "cell_type": "code",
   "execution_count": null,
   "metadata": {},
   "outputs": [],
   "source": [
    "#| export\n",
    "def aggregate_returns(returns, period=None, compounded=True):\n",
    "    \"\"\"Aggregates returns based on date periods\"\"\"\n",
    "    if period is None or 'day' in period:\n",
    "        return returns\n",
    "    index = returns.index\n",
    "\n",
    "    if 'month' in period:\n",
    "        return group_returns(returns, index.month, compounded=compounded)\n",
    "\n",
    "    if 'quarter' in period:\n",
    "        return group_returns(returns, index.quarter, compounded=compounded)\n",
    "\n",
    "    if period == \"A\" or any(x in period for x in ['year', 'eoy', 'yoy']):\n",
    "        return group_returns(returns, index.year, compounded=compounded)\n",
    "\n",
    "    if 'week' in period:\n",
    "        return group_returns(returns, index.week, compounded=compounded)\n",
    "\n",
    "    if 'eow' in period or period == \"W\":\n",
    "        return group_returns(returns, [index.year, index.week],\n",
    "                             compounded=compounded)\n",
    "\n",
    "    if 'eom' in period or period == \"M\":\n",
    "        return group_returns(returns, [index.year, index.month],\n",
    "                             compounded=compounded)\n",
    "\n",
    "    if 'eoq' in period or period == \"Q\":\n",
    "        return group_returns(returns, [index.year, index.quarter],\n",
    "                             compounded=compounded)\n",
    "\n",
    "    if not isinstance(period, str):\n",
    "        return group_returns(returns, period, compounded)\n",
    "\n",
    "    return returns"
   ]
  },
  {
   "cell_type": "code",
   "execution_count": null,
   "metadata": {},
   "outputs": [],
   "source": [
    "#| export\n",
    "def to_excess_returns(returns, rf, nperiods=None):\n",
    "    \"\"\"\n",
    "    Calculates excess returns by subtracting\n",
    "    risk-free returns from total returns\n",
    "    Args:\n",
    "        * returns (Series, DataFrame): Returns\n",
    "        * rf (float, Series, DataFrame): Risk-Free rate(s)\n",
    "        * nperiods (int): Optional. If provided, will convert rf to different\n",
    "            frequency using deannualize\n",
    "    Returns:\n",
    "        * excess_returns (Series, DataFrame): Returns - rf\n",
    "    \"\"\"\n",
    "    if isinstance(rf, int):\n",
    "        rf = float(rf)\n",
    "\n",
    "    if not isinstance(rf, float):\n",
    "        rf = rf[rf.index.isin(returns.index)]\n",
    "\n",
    "    if nperiods is not None:\n",
    "        # deannualize\n",
    "        rf = _np.power(1 + rf, 1. / nperiods) - 1.\n",
    "\n",
    "    return returns - rf"
   ]
  },
  {
   "cell_type": "code",
   "execution_count": null,
   "metadata": {},
   "outputs": [],
   "source": [
    "#| hide\n",
    "import nbdev; nbdev.nbdev_export()"
   ]
  }
 ],
 "metadata": {
  "kernelspec": {
   "display_name": "Python 3.9.12 ('packageDev1')",
   "language": "python",
   "name": "python3"
  }
 },
 "nbformat": 4,
 "nbformat_minor": 4
}
